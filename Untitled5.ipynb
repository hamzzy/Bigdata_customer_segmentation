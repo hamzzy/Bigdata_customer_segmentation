{
 "cells": [
  {
   "cell_type": "code",
   "execution_count": 4,
   "metadata": {
    "colab": {},
    "colab_type": "code",
    "id": "of51ko9ESzBU"
   },
   "outputs": [],
   "source": [
    "import pandas as pd\n",
    "import numpy as np\n",
    "import seaborn as sns\n",
    "\n",
    "import matplotlib.pyplot as plt"
   ]
  },
  {
   "cell_type": "code",
   "execution_count": null,
   "metadata": {},
   "outputs": [],
   "source": [
    "from os import listdir\n",
    "\n",
    "filepaths = [f for f in listdir(\"./\") if f.endswith('.csv')]\n",
    "df = pd.concat(map(pd.read_csv, filepaths))"
   ]
  },
  {
   "cell_type": "code",
   "execution_count": null,
   "metadata": {},
   "outputs": [],
   "source": []
  },
  {
   "cell_type": "code",
   "execution_count": 5,
   "metadata": {
    "colab": {},
    "colab_type": "code",
    "id": "JsjecJ_g-Iu_"
   },
   "outputs": [],
   "source": [
    "df=pd.read_csv('data (32).csv')"
   ]
  },
  {
   "cell_type": "code",
   "execution_count": 6,
   "metadata": {
    "colab": {
     "base_uri": "https://localhost:8080/",
     "height": 256
    },
    "colab_type": "code",
    "id": "wQDDuvBx2KHl",
    "outputId": "28844cb1-ccd2-4e40-d1fe-18af93a5dca9"
   },
   "outputs": [
    {
     "data": {
      "text/html": [
       "<div>\n",
       "<style scoped>\n",
       "    .dataframe tbody tr th:only-of-type {\n",
       "        vertical-align: middle;\n",
       "    }\n",
       "\n",
       "    .dataframe tbody tr th {\n",
       "        vertical-align: top;\n",
       "    }\n",
       "\n",
       "    .dataframe thead th {\n",
       "        text-align: right;\n",
       "    }\n",
       "</style>\n",
       "<table border=\"1\" class=\"dataframe\">\n",
       "  <thead>\n",
       "    <tr style=\"text-align: right;\">\n",
       "      <th></th>\n",
       "      <th>SHOP_WEEK</th>\n",
       "      <th>SHOP_DATE</th>\n",
       "      <th>SHOP_WEEKDAY</th>\n",
       "      <th>SHOP_HOUR</th>\n",
       "      <th>QUANTITY</th>\n",
       "      <th>SPEND</th>\n",
       "      <th>PROD_CODE</th>\n",
       "      <th>PROD_CODE_10</th>\n",
       "      <th>PROD_CODE_20</th>\n",
       "      <th>PROD_CODE_30</th>\n",
       "      <th>...</th>\n",
       "      <th>CUST_PRICE_SENSITIVITY</th>\n",
       "      <th>CUST_LIFESTAGE</th>\n",
       "      <th>BASKET_ID</th>\n",
       "      <th>BASKET_SIZE</th>\n",
       "      <th>BASKET_PRICE_SENSITIVITY</th>\n",
       "      <th>BASKET_TYPE</th>\n",
       "      <th>BASKET_DOMINANT_MISSION</th>\n",
       "      <th>STORE_CODE</th>\n",
       "      <th>STORE_FORMAT</th>\n",
       "      <th>STORE_REGION</th>\n",
       "    </tr>\n",
       "  </thead>\n",
       "  <tbody>\n",
       "    <tr>\n",
       "      <th>0</th>\n",
       "      <td>200812</td>\n",
       "      <td>20080513</td>\n",
       "      <td>3</td>\n",
       "      <td>18</td>\n",
       "      <td>1</td>\n",
       "      <td>1.01</td>\n",
       "      <td>PRD0900005</td>\n",
       "      <td>CL00155</td>\n",
       "      <td>DEP00053</td>\n",
       "      <td>G00016</td>\n",
       "      <td>...</td>\n",
       "      <td>LA</td>\n",
       "      <td>OT</td>\n",
       "      <td>994111000448051</td>\n",
       "      <td>S</td>\n",
       "      <td>MM</td>\n",
       "      <td>Small Shop</td>\n",
       "      <td>Mixed</td>\n",
       "      <td>STORE00001</td>\n",
       "      <td>LS</td>\n",
       "      <td>E02</td>\n",
       "    </tr>\n",
       "    <tr>\n",
       "      <th>1</th>\n",
       "      <td>200812</td>\n",
       "      <td>20080515</td>\n",
       "      <td>5</td>\n",
       "      <td>13</td>\n",
       "      <td>1</td>\n",
       "      <td>0.22</td>\n",
       "      <td>PRD0900006</td>\n",
       "      <td>CL00103</td>\n",
       "      <td>DEP00035</td>\n",
       "      <td>G00010</td>\n",
       "      <td>...</td>\n",
       "      <td>MM</td>\n",
       "      <td>YF</td>\n",
       "      <td>994111000795766</td>\n",
       "      <td>L</td>\n",
       "      <td>LA</td>\n",
       "      <td>Full Shop</td>\n",
       "      <td>Mixed</td>\n",
       "      <td>STORE00001</td>\n",
       "      <td>LS</td>\n",
       "      <td>E02</td>\n",
       "    </tr>\n",
       "    <tr>\n",
       "      <th>2</th>\n",
       "      <td>200812</td>\n",
       "      <td>20080514</td>\n",
       "      <td>4</td>\n",
       "      <td>15</td>\n",
       "      <td>1</td>\n",
       "      <td>0.22</td>\n",
       "      <td>PRD0900006</td>\n",
       "      <td>CL00103</td>\n",
       "      <td>DEP00035</td>\n",
       "      <td>G00010</td>\n",
       "      <td>...</td>\n",
       "      <td>NaN</td>\n",
       "      <td>NaN</td>\n",
       "      <td>994111000138643</td>\n",
       "      <td>L</td>\n",
       "      <td>MM</td>\n",
       "      <td>Top Up</td>\n",
       "      <td>Mixed</td>\n",
       "      <td>STORE00001</td>\n",
       "      <td>LS</td>\n",
       "      <td>E02</td>\n",
       "    </tr>\n",
       "    <tr>\n",
       "      <th>3</th>\n",
       "      <td>200812</td>\n",
       "      <td>20080515</td>\n",
       "      <td>5</td>\n",
       "      <td>17</td>\n",
       "      <td>1</td>\n",
       "      <td>0.22</td>\n",
       "      <td>PRD0900007</td>\n",
       "      <td>CL00103</td>\n",
       "      <td>DEP00035</td>\n",
       "      <td>G00010</td>\n",
       "      <td>...</td>\n",
       "      <td>UM</td>\n",
       "      <td>OA</td>\n",
       "      <td>994111000531927</td>\n",
       "      <td>L</td>\n",
       "      <td>MM</td>\n",
       "      <td>Full Shop</td>\n",
       "      <td>Fresh</td>\n",
       "      <td>STORE00001</td>\n",
       "      <td>LS</td>\n",
       "      <td>E02</td>\n",
       "    </tr>\n",
       "    <tr>\n",
       "      <th>4</th>\n",
       "      <td>200812</td>\n",
       "      <td>20080517</td>\n",
       "      <td>7</td>\n",
       "      <td>20</td>\n",
       "      <td>3</td>\n",
       "      <td>5.31</td>\n",
       "      <td>PRD0900008</td>\n",
       "      <td>CL00042</td>\n",
       "      <td>DEP00011</td>\n",
       "      <td>G00004</td>\n",
       "      <td>...</td>\n",
       "      <td>UM</td>\n",
       "      <td>OT</td>\n",
       "      <td>994111000459076</td>\n",
       "      <td>L</td>\n",
       "      <td>UM</td>\n",
       "      <td>Top Up</td>\n",
       "      <td>Fresh</td>\n",
       "      <td>STORE00001</td>\n",
       "      <td>LS</td>\n",
       "      <td>E02</td>\n",
       "    </tr>\n",
       "  </tbody>\n",
       "</table>\n",
       "<p>5 rows × 22 columns</p>\n",
       "</div>"
      ],
      "text/plain": [
       "   SHOP_WEEK  SHOP_DATE  SHOP_WEEKDAY  SHOP_HOUR  QUANTITY  SPEND   PROD_CODE  \\\n",
       "0     200812   20080513             3         18         1   1.01  PRD0900005   \n",
       "1     200812   20080515             5         13         1   0.22  PRD0900006   \n",
       "2     200812   20080514             4         15         1   0.22  PRD0900006   \n",
       "3     200812   20080515             5         17         1   0.22  PRD0900007   \n",
       "4     200812   20080517             7         20         3   5.31  PRD0900008   \n",
       "\n",
       "  PROD_CODE_10 PROD_CODE_20 PROD_CODE_30     ...      CUST_PRICE_SENSITIVITY  \\\n",
       "0      CL00155     DEP00053       G00016     ...                          LA   \n",
       "1      CL00103     DEP00035       G00010     ...                          MM   \n",
       "2      CL00103     DEP00035       G00010     ...                         NaN   \n",
       "3      CL00103     DEP00035       G00010     ...                          UM   \n",
       "4      CL00042     DEP00011       G00004     ...                          UM   \n",
       "\n",
       "  CUST_LIFESTAGE        BASKET_ID BASKET_SIZE  BASKET_PRICE_SENSITIVITY  \\\n",
       "0             OT  994111000448051           S                        MM   \n",
       "1             YF  994111000795766           L                        LA   \n",
       "2            NaN  994111000138643           L                        MM   \n",
       "3             OA  994111000531927           L                        MM   \n",
       "4             OT  994111000459076           L                        UM   \n",
       "\n",
       "  BASKET_TYPE BASKET_DOMINANT_MISSION  STORE_CODE STORE_FORMAT STORE_REGION  \n",
       "0  Small Shop                   Mixed  STORE00001           LS          E02  \n",
       "1   Full Shop                   Mixed  STORE00001           LS          E02  \n",
       "2      Top Up                   Mixed  STORE00001           LS          E02  \n",
       "3   Full Shop                   Fresh  STORE00001           LS          E02  \n",
       "4      Top Up                   Fresh  STORE00001           LS          E02  \n",
       "\n",
       "[5 rows x 22 columns]"
      ]
     },
     "execution_count": 6,
     "metadata": {},
     "output_type": "execute_result"
    }
   ],
   "source": [
    "df.head()"
   ]
  },
  {
   "cell_type": "code",
   "execution_count": 8,
   "metadata": {
    "colab": {
     "base_uri": "https://localhost:8080/",
     "height": 139
    },
    "colab_type": "code",
    "id": "pTvI2Fkm-m2c",
    "outputId": "c2ec2b84-7670-40ee-d767-44b564b5d28d"
   },
   "outputs": [
    {
     "data": {
      "text/plain": [
       "Index(['SHOP_WEEK', 'SHOP_DATE', 'SHOP_WEEKDAY', 'SHOP_HOUR', 'QUANTITY',\n",
       "       'SPEND', 'PROD_CODE', 'PROD_CODE_10', 'PROD_CODE_20', 'PROD_CODE_30',\n",
       "       'PROD_CODE_40', 'CUST_CODE', 'CUST_PRICE_SENSITIVITY', 'CUST_LIFESTAGE',\n",
       "       'BASKET_ID', 'BASKET_SIZE', 'BASKET_PRICE_SENSITIVITY', 'BASKET_TYPE',\n",
       "       'BASKET_DOMINANT_MISSION', 'STORE_CODE', 'STORE_FORMAT',\n",
       "       'STORE_REGION'],\n",
       "      dtype='object')"
      ]
     },
     "execution_count": 8,
     "metadata": {
      "tags": []
     },
     "output_type": "execute_result"
    }
   ],
   "source": [
    "df.columns"
   ]
  },
  {
   "cell_type": "code",
   "execution_count": 9,
   "metadata": {
    "colab": {
     "base_uri": "https://localhost:8080/",
     "height": 416
    },
    "colab_type": "code",
    "id": "68splwIP-v7W",
    "outputId": "cf53b580-195a-4be1-e4b4-941737d91bb4"
   },
   "outputs": [
    {
     "data": {
      "text/plain": [
       "SHOP_WEEK                   False\n",
       "SHOP_DATE                   False\n",
       "SHOP_WEEKDAY                False\n",
       "SHOP_HOUR                   False\n",
       "QUANTITY                    False\n",
       "SPEND                       False\n",
       "PROD_CODE                   False\n",
       "PROD_CODE_10                False\n",
       "PROD_CODE_20                False\n",
       "PROD_CODE_30                False\n",
       "PROD_CODE_40                False\n",
       "CUST_CODE                    True\n",
       "CUST_PRICE_SENSITIVITY       True\n",
       "CUST_LIFESTAGE               True\n",
       "BASKET_ID                   False\n",
       "BASKET_SIZE                 False\n",
       "BASKET_PRICE_SENSITIVITY    False\n",
       "BASKET_TYPE                 False\n",
       "BASKET_DOMINANT_MISSION     False\n",
       "STORE_CODE                  False\n",
       "STORE_FORMAT                False\n",
       "STORE_REGION                False\n",
       "dtype: bool"
      ]
     },
     "execution_count": 9,
     "metadata": {
      "tags": []
     },
     "output_type": "execute_result"
    }
   ],
   "source": [
    "df.isna().any()"
   ]
  },
  {
   "cell_type": "markdown",
   "metadata": {
    "colab_type": "text",
    "id": "SaEjsrj9GWZE"
   },
   "source": [
    "**DROP NAN VALUE**"
   ]
  },
  {
   "cell_type": "code",
   "execution_count": 10,
   "metadata": {
    "colab": {
     "base_uri": "https://localhost:8080/",
     "height": 416
    },
    "colab_type": "code",
    "id": "YpU5RLFiA5hP",
    "outputId": "6c996ebd-2f72-402c-85fa-4bc68fc342e0"
   },
   "outputs": [
    {
     "data": {
      "text/plain": [
       "SHOP_WEEK                   False\n",
       "SHOP_DATE                   False\n",
       "SHOP_WEEKDAY                False\n",
       "SHOP_HOUR                   False\n",
       "QUANTITY                    False\n",
       "SPEND                       False\n",
       "PROD_CODE                   False\n",
       "PROD_CODE_10                False\n",
       "PROD_CODE_20                False\n",
       "PROD_CODE_30                False\n",
       "PROD_CODE_40                False\n",
       "CUST_CODE                   False\n",
       "CUST_PRICE_SENSITIVITY      False\n",
       "CUST_LIFESTAGE              False\n",
       "BASKET_ID                   False\n",
       "BASKET_SIZE                 False\n",
       "BASKET_PRICE_SENSITIVITY    False\n",
       "BASKET_TYPE                 False\n",
       "BASKET_DOMINANT_MISSION     False\n",
       "STORE_CODE                  False\n",
       "STORE_FORMAT                False\n",
       "STORE_REGION                False\n",
       "dtype: bool"
      ]
     },
     "execution_count": 10,
     "metadata": {
      "tags": []
     },
     "output_type": "execute_result"
    }
   ],
   "source": [
    "data =df.dropna()\n",
    "data.isna().any()\n",
    "\n"
   ]
  },
  {
   "cell_type": "code",
   "execution_count": 14,
   "metadata": {
    "colab": {
     "base_uri": "https://localhost:8080/",
     "height": 34
    },
    "colab_type": "code",
    "id": "6nqavec0AIVT",
    "outputId": "ab31762a-4199-4ab7-cc41-49528d24067b"
   },
   "outputs": [
    {
     "data": {
      "text/plain": [
       "False"
      ]
     },
     "execution_count": 14,
     "metadata": {
      "tags": []
     },
     "output_type": "execute_result"
    }
   ],
   "source": [
    "data.duplicated().any()"
   ]
  },
  {
   "cell_type": "code",
   "execution_count": 15,
   "metadata": {
    "colab": {
     "base_uri": "https://localhost:8080/",
     "height": 256
    },
    "colab_type": "code",
    "id": "t0RbMVgsXh_5",
    "outputId": "84c4e895-6a76-4c4a-f9e7-a748e2b9d7b6"
   },
   "outputs": [
    {
     "data": {
      "text/html": [
       "<div>\n",
       "<style scoped>\n",
       "    .dataframe tbody tr th:only-of-type {\n",
       "        vertical-align: middle;\n",
       "    }\n",
       "\n",
       "    .dataframe tbody tr th {\n",
       "        vertical-align: top;\n",
       "    }\n",
       "\n",
       "    .dataframe thead th {\n",
       "        text-align: right;\n",
       "    }\n",
       "</style>\n",
       "<table border=\"1\" class=\"dataframe\">\n",
       "  <thead>\n",
       "    <tr style=\"text-align: right;\">\n",
       "      <th></th>\n",
       "      <th>SHOP_WEEK</th>\n",
       "      <th>SHOP_DATE</th>\n",
       "      <th>SHOP_WEEKDAY</th>\n",
       "      <th>SHOP_HOUR</th>\n",
       "      <th>QUANTITY</th>\n",
       "      <th>SPEND</th>\n",
       "      <th>PROD_CODE</th>\n",
       "      <th>PROD_CODE_10</th>\n",
       "      <th>PROD_CODE_20</th>\n",
       "      <th>PROD_CODE_30</th>\n",
       "      <th>...</th>\n",
       "      <th>CUST_PRICE_SENSITIVITY</th>\n",
       "      <th>CUST_LIFESTAGE</th>\n",
       "      <th>BASKET_ID</th>\n",
       "      <th>BASKET_SIZE</th>\n",
       "      <th>BASKET_PRICE_SENSITIVITY</th>\n",
       "      <th>BASKET_TYPE</th>\n",
       "      <th>BASKET_DOMINANT_MISSION</th>\n",
       "      <th>STORE_CODE</th>\n",
       "      <th>STORE_FORMAT</th>\n",
       "      <th>STORE_REGION</th>\n",
       "    </tr>\n",
       "  </thead>\n",
       "  <tbody>\n",
       "    <tr>\n",
       "      <th>0</th>\n",
       "      <td>200734</td>\n",
       "      <td>20071015</td>\n",
       "      <td>2</td>\n",
       "      <td>18</td>\n",
       "      <td>1</td>\n",
       "      <td>0.22</td>\n",
       "      <td>PRD0900006</td>\n",
       "      <td>CL00103</td>\n",
       "      <td>DEP00035</td>\n",
       "      <td>G00010</td>\n",
       "      <td>...</td>\n",
       "      <td>MM</td>\n",
       "      <td>YF</td>\n",
       "      <td>994108000197854</td>\n",
       "      <td>L</td>\n",
       "      <td>UM</td>\n",
       "      <td>Top Up</td>\n",
       "      <td>Fresh</td>\n",
       "      <td>STORE00001</td>\n",
       "      <td>LS</td>\n",
       "      <td>E02</td>\n",
       "    </tr>\n",
       "    <tr>\n",
       "      <th>1</th>\n",
       "      <td>200734</td>\n",
       "      <td>20071019</td>\n",
       "      <td>6</td>\n",
       "      <td>20</td>\n",
       "      <td>1</td>\n",
       "      <td>0.22</td>\n",
       "      <td>PRD0900006</td>\n",
       "      <td>CL00103</td>\n",
       "      <td>DEP00035</td>\n",
       "      <td>G00010</td>\n",
       "      <td>...</td>\n",
       "      <td>UM</td>\n",
       "      <td>YF</td>\n",
       "      <td>994108000769890</td>\n",
       "      <td>M</td>\n",
       "      <td>MM</td>\n",
       "      <td>Top Up</td>\n",
       "      <td>Mixed</td>\n",
       "      <td>STORE00001</td>\n",
       "      <td>LS</td>\n",
       "      <td>E02</td>\n",
       "    </tr>\n",
       "    <tr>\n",
       "      <th>2</th>\n",
       "      <td>200734</td>\n",
       "      <td>20071018</td>\n",
       "      <td>5</td>\n",
       "      <td>18</td>\n",
       "      <td>1</td>\n",
       "      <td>0.22</td>\n",
       "      <td>PRD0900006</td>\n",
       "      <td>CL00103</td>\n",
       "      <td>DEP00035</td>\n",
       "      <td>G00010</td>\n",
       "      <td>...</td>\n",
       "      <td>LA</td>\n",
       "      <td>OA</td>\n",
       "      <td>994108000438953</td>\n",
       "      <td>L</td>\n",
       "      <td>LA</td>\n",
       "      <td>Full Shop</td>\n",
       "      <td>Mixed</td>\n",
       "      <td>STORE00001</td>\n",
       "      <td>LS</td>\n",
       "      <td>E02</td>\n",
       "    </tr>\n",
       "    <tr>\n",
       "      <th>4</th>\n",
       "      <td>200734</td>\n",
       "      <td>20071017</td>\n",
       "      <td>4</td>\n",
       "      <td>16</td>\n",
       "      <td>1</td>\n",
       "      <td>1.25</td>\n",
       "      <td>PRD0900013</td>\n",
       "      <td>CL00015</td>\n",
       "      <td>DEP00004</td>\n",
       "      <td>G00003</td>\n",
       "      <td>...</td>\n",
       "      <td>MM</td>\n",
       "      <td>OA</td>\n",
       "      <td>994108000504068</td>\n",
       "      <td>L</td>\n",
       "      <td>MM</td>\n",
       "      <td>Full Shop</td>\n",
       "      <td>Mixed</td>\n",
       "      <td>STORE00001</td>\n",
       "      <td>LS</td>\n",
       "      <td>E02</td>\n",
       "    </tr>\n",
       "    <tr>\n",
       "      <th>6</th>\n",
       "      <td>200734</td>\n",
       "      <td>20071017</td>\n",
       "      <td>4</td>\n",
       "      <td>19</td>\n",
       "      <td>1</td>\n",
       "      <td>0.97</td>\n",
       "      <td>PRD0900015</td>\n",
       "      <td>CL00015</td>\n",
       "      <td>DEP00004</td>\n",
       "      <td>G00003</td>\n",
       "      <td>...</td>\n",
       "      <td>UM</td>\n",
       "      <td>OT</td>\n",
       "      <td>994108000415978</td>\n",
       "      <td>L</td>\n",
       "      <td>UM</td>\n",
       "      <td>Top Up</td>\n",
       "      <td>Fresh</td>\n",
       "      <td>STORE00001</td>\n",
       "      <td>LS</td>\n",
       "      <td>E02</td>\n",
       "    </tr>\n",
       "  </tbody>\n",
       "</table>\n",
       "<p>5 rows × 22 columns</p>\n",
       "</div>"
      ],
      "text/plain": [
       "   SHOP_WEEK  SHOP_DATE  SHOP_WEEKDAY  SHOP_HOUR  QUANTITY  SPEND   PROD_CODE  \\\n",
       "0     200734   20071015             2         18         1   0.22  PRD0900006   \n",
       "1     200734   20071019             6         20         1   0.22  PRD0900006   \n",
       "2     200734   20071018             5         18         1   0.22  PRD0900006   \n",
       "4     200734   20071017             4         16         1   1.25  PRD0900013   \n",
       "6     200734   20071017             4         19         1   0.97  PRD0900015   \n",
       "\n",
       "  PROD_CODE_10 PROD_CODE_20 PROD_CODE_30     ...      CUST_PRICE_SENSITIVITY  \\\n",
       "0      CL00103     DEP00035       G00010     ...                          MM   \n",
       "1      CL00103     DEP00035       G00010     ...                          UM   \n",
       "2      CL00103     DEP00035       G00010     ...                          LA   \n",
       "4      CL00015     DEP00004       G00003     ...                          MM   \n",
       "6      CL00015     DEP00004       G00003     ...                          UM   \n",
       "\n",
       "  CUST_LIFESTAGE        BASKET_ID BASKET_SIZE  BASKET_PRICE_SENSITIVITY  \\\n",
       "0             YF  994108000197854           L                        UM   \n",
       "1             YF  994108000769890           M                        MM   \n",
       "2             OA  994108000438953           L                        LA   \n",
       "4             OA  994108000504068           L                        MM   \n",
       "6             OT  994108000415978           L                        UM   \n",
       "\n",
       "  BASKET_TYPE BASKET_DOMINANT_MISSION  STORE_CODE STORE_FORMAT STORE_REGION  \n",
       "0      Top Up                   Fresh  STORE00001           LS          E02  \n",
       "1      Top Up                   Mixed  STORE00001           LS          E02  \n",
       "2   Full Shop                   Mixed  STORE00001           LS          E02  \n",
       "4   Full Shop                   Mixed  STORE00001           LS          E02  \n",
       "6      Top Up                   Fresh  STORE00001           LS          E02  \n",
       "\n",
       "[5 rows x 22 columns]"
      ]
     },
     "execution_count": 15,
     "metadata": {
      "tags": []
     },
     "output_type": "execute_result"
    }
   ],
   "source": [
    "data.head()"
   ]
  },
  {
   "cell_type": "code",
   "execution_count": 16,
   "metadata": {
    "colab": {
     "base_uri": "https://localhost:8080/",
     "height": 141
    },
    "colab_type": "code",
    "id": "WbSzJ_ZNJCvV",
    "outputId": "b603b172-6e4c-4bb5-e8fd-1ef15d8be1b6"
   },
   "outputs": [
    {
     "name": "stderr",
     "output_type": "stream",
     "text": [
      "/usr/local/lib/python3.6/dist-packages/ipykernel_launcher.py:1: SettingWithCopyWarning: \n",
      "A value is trying to be set on a copy of a slice from a DataFrame.\n",
      "Try using .loc[row_indexer,col_indexer] = value instead\n",
      "\n",
      "See the caveats in the documentation: http://pandas.pydata.org/pandas-docs/stable/indexing.html#indexing-view-versus-copy\n",
      "  \"\"\"Entry point for launching an IPython kernel.\n"
     ]
    }
   ],
   "source": [
    "data['TOTAL_PRICE']=data.SPEND * data.QUANTITY"
   ]
  },
  {
   "cell_type": "code",
   "execution_count": 0,
   "metadata": {
    "colab": {
     "base_uri": "https://localhost:8080/",
     "height": 256
    },
    "colab_type": "code",
    "id": "Et1o8CFSUiVD",
    "outputId": "2af325f0-439e-4cf3-b7bd-f6f89f9fa137"
   },
   "outputs": [
    {
     "data": {
      "text/html": [
       "<div>\n",
       "<style scoped>\n",
       "    .dataframe tbody tr th:only-of-type {\n",
       "        vertical-align: middle;\n",
       "    }\n",
       "\n",
       "    .dataframe tbody tr th {\n",
       "        vertical-align: top;\n",
       "    }\n",
       "\n",
       "    .dataframe thead th {\n",
       "        text-align: right;\n",
       "    }\n",
       "</style>\n",
       "<table border=\"1\" class=\"dataframe\">\n",
       "  <thead>\n",
       "    <tr style=\"text-align: right;\">\n",
       "      <th></th>\n",
       "      <th>SHOP_WEEK</th>\n",
       "      <th>SHOP_DATE</th>\n",
       "      <th>SHOP_WEEKDAY</th>\n",
       "      <th>SHOP_HOUR</th>\n",
       "      <th>QUANTITY</th>\n",
       "      <th>SPEND</th>\n",
       "      <th>PROD_CODE</th>\n",
       "      <th>PROD_CODE_10</th>\n",
       "      <th>PROD_CODE_20</th>\n",
       "      <th>PROD_CODE_30</th>\n",
       "      <th>...</th>\n",
       "      <th>CUST_LIFESTAGE</th>\n",
       "      <th>BASKET_ID</th>\n",
       "      <th>BASKET_SIZE</th>\n",
       "      <th>BASKET_PRICE_SENSITIVITY</th>\n",
       "      <th>BASKET_TYPE</th>\n",
       "      <th>BASKET_DOMINANT_MISSION</th>\n",
       "      <th>STORE_CODE</th>\n",
       "      <th>STORE_FORMAT</th>\n",
       "      <th>STORE_REGION</th>\n",
       "      <th>TOTAL_PRICE</th>\n",
       "    </tr>\n",
       "  </thead>\n",
       "  <tbody>\n",
       "    <tr>\n",
       "      <th>0</th>\n",
       "      <td>200734</td>\n",
       "      <td>20071015</td>\n",
       "      <td>2</td>\n",
       "      <td>18</td>\n",
       "      <td>1</td>\n",
       "      <td>0.22</td>\n",
       "      <td>PRD0900006</td>\n",
       "      <td>CL00103</td>\n",
       "      <td>DEP00035</td>\n",
       "      <td>G00010</td>\n",
       "      <td>...</td>\n",
       "      <td>YF</td>\n",
       "      <td>994108000197854</td>\n",
       "      <td>L</td>\n",
       "      <td>UM</td>\n",
       "      <td>Top Up</td>\n",
       "      <td>Fresh</td>\n",
       "      <td>STORE00001</td>\n",
       "      <td>LS</td>\n",
       "      <td>E02</td>\n",
       "      <td>0.22</td>\n",
       "    </tr>\n",
       "    <tr>\n",
       "      <th>1</th>\n",
       "      <td>200734</td>\n",
       "      <td>20071019</td>\n",
       "      <td>6</td>\n",
       "      <td>20</td>\n",
       "      <td>1</td>\n",
       "      <td>0.22</td>\n",
       "      <td>PRD0900006</td>\n",
       "      <td>CL00103</td>\n",
       "      <td>DEP00035</td>\n",
       "      <td>G00010</td>\n",
       "      <td>...</td>\n",
       "      <td>YF</td>\n",
       "      <td>994108000769890</td>\n",
       "      <td>M</td>\n",
       "      <td>MM</td>\n",
       "      <td>Top Up</td>\n",
       "      <td>Mixed</td>\n",
       "      <td>STORE00001</td>\n",
       "      <td>LS</td>\n",
       "      <td>E02</td>\n",
       "      <td>0.22</td>\n",
       "    </tr>\n",
       "    <tr>\n",
       "      <th>2</th>\n",
       "      <td>200734</td>\n",
       "      <td>20071018</td>\n",
       "      <td>5</td>\n",
       "      <td>18</td>\n",
       "      <td>1</td>\n",
       "      <td>0.22</td>\n",
       "      <td>PRD0900006</td>\n",
       "      <td>CL00103</td>\n",
       "      <td>DEP00035</td>\n",
       "      <td>G00010</td>\n",
       "      <td>...</td>\n",
       "      <td>OA</td>\n",
       "      <td>994108000438953</td>\n",
       "      <td>L</td>\n",
       "      <td>LA</td>\n",
       "      <td>Full Shop</td>\n",
       "      <td>Mixed</td>\n",
       "      <td>STORE00001</td>\n",
       "      <td>LS</td>\n",
       "      <td>E02</td>\n",
       "      <td>0.22</td>\n",
       "    </tr>\n",
       "    <tr>\n",
       "      <th>4</th>\n",
       "      <td>200734</td>\n",
       "      <td>20071017</td>\n",
       "      <td>4</td>\n",
       "      <td>16</td>\n",
       "      <td>1</td>\n",
       "      <td>1.25</td>\n",
       "      <td>PRD0900013</td>\n",
       "      <td>CL00015</td>\n",
       "      <td>DEP00004</td>\n",
       "      <td>G00003</td>\n",
       "      <td>...</td>\n",
       "      <td>OA</td>\n",
       "      <td>994108000504068</td>\n",
       "      <td>L</td>\n",
       "      <td>MM</td>\n",
       "      <td>Full Shop</td>\n",
       "      <td>Mixed</td>\n",
       "      <td>STORE00001</td>\n",
       "      <td>LS</td>\n",
       "      <td>E02</td>\n",
       "      <td>1.25</td>\n",
       "    </tr>\n",
       "    <tr>\n",
       "      <th>6</th>\n",
       "      <td>200734</td>\n",
       "      <td>20071017</td>\n",
       "      <td>4</td>\n",
       "      <td>19</td>\n",
       "      <td>1</td>\n",
       "      <td>0.97</td>\n",
       "      <td>PRD0900015</td>\n",
       "      <td>CL00015</td>\n",
       "      <td>DEP00004</td>\n",
       "      <td>G00003</td>\n",
       "      <td>...</td>\n",
       "      <td>OT</td>\n",
       "      <td>994108000415978</td>\n",
       "      <td>L</td>\n",
       "      <td>UM</td>\n",
       "      <td>Top Up</td>\n",
       "      <td>Fresh</td>\n",
       "      <td>STORE00001</td>\n",
       "      <td>LS</td>\n",
       "      <td>E02</td>\n",
       "      <td>0.97</td>\n",
       "    </tr>\n",
       "  </tbody>\n",
       "</table>\n",
       "<p>5 rows × 23 columns</p>\n",
       "</div>"
      ],
      "text/plain": [
       "   SHOP_WEEK  SHOP_DATE  SHOP_WEEKDAY  SHOP_HOUR  QUANTITY  SPEND   PROD_CODE  \\\n",
       "0     200734   20071015             2         18         1   0.22  PRD0900006   \n",
       "1     200734   20071019             6         20         1   0.22  PRD0900006   \n",
       "2     200734   20071018             5         18         1   0.22  PRD0900006   \n",
       "4     200734   20071017             4         16         1   1.25  PRD0900013   \n",
       "6     200734   20071017             4         19         1   0.97  PRD0900015   \n",
       "\n",
       "  PROD_CODE_10 PROD_CODE_20 PROD_CODE_30     ...     CUST_LIFESTAGE  \\\n",
       "0      CL00103     DEP00035       G00010     ...                 YF   \n",
       "1      CL00103     DEP00035       G00010     ...                 YF   \n",
       "2      CL00103     DEP00035       G00010     ...                 OA   \n",
       "4      CL00015     DEP00004       G00003     ...                 OA   \n",
       "6      CL00015     DEP00004       G00003     ...                 OT   \n",
       "\n",
       "         BASKET_ID BASKET_SIZE BASKET_PRICE_SENSITIVITY  BASKET_TYPE  \\\n",
       "0  994108000197854           L                       UM       Top Up   \n",
       "1  994108000769890           M                       MM       Top Up   \n",
       "2  994108000438953           L                       LA    Full Shop   \n",
       "4  994108000504068           L                       MM    Full Shop   \n",
       "6  994108000415978           L                       UM       Top Up   \n",
       "\n",
       "  BASKET_DOMINANT_MISSION  STORE_CODE STORE_FORMAT STORE_REGION TOTAL_PRICE  \n",
       "0                   Fresh  STORE00001           LS          E02        0.22  \n",
       "1                   Mixed  STORE00001           LS          E02        0.22  \n",
       "2                   Mixed  STORE00001           LS          E02        0.22  \n",
       "4                   Mixed  STORE00001           LS          E02        1.25  \n",
       "6                   Fresh  STORE00001           LS          E02        0.97  \n",
       "\n",
       "[5 rows x 23 columns]"
      ]
     },
     "execution_count": 16,
     "metadata": {
      "tags": []
     },
     "output_type": "execute_result"
    }
   ],
   "source": [
    "data.head()"
   ]
  },
  {
   "cell_type": "code",
   "execution_count": 0,
   "metadata": {
    "colab": {},
    "colab_type": "code",
    "id": "fA1yaij2A1wK"
   },
   "outputs": [],
   "source": []
  },
  {
   "cell_type": "code",
   "execution_count": 0,
   "metadata": {
    "colab": {
     "base_uri": "https://localhost:8080/",
     "height": 52
    },
    "colab_type": "code",
    "id": "hsti1g2HGggj",
    "outputId": "c3190261-f5f3-46e4-88e0-ecf4b790fd0e"
   },
   "outputs": [
    {
     "data": {
      "text/plain": [
       "array(['E02', 'W01', 'E01', 'E03', 'S01', 'W02', 'N01', 'W03', 'N02',\n",
       "       'S02', 'N03', 'S03'], dtype=object)"
      ]
     },
     "execution_count": 6,
     "metadata": {
      "tags": []
     },
     "output_type": "execute_result"
    }
   ],
   "source": [
    "data['STORE_REGION'].unique()"
   ]
  },
  {
   "cell_type": "code",
   "execution_count": 18,
   "metadata": {
    "colab": {
     "base_uri": "https://localhost:8080/",
     "height": 375
    },
    "colab_type": "code",
    "id": "Hr_rVTLbAiSC",
    "outputId": "892fdb81-be50-4d88-c059-d572fcdcd4c8"
   },
   "outputs": [
    {
     "data": {
      "text/plain": [
       "<matplotlib.axes._subplots.AxesSubplot at 0x7f410c79d2b0>"
      ]
     },
     "execution_count": 18,
     "metadata": {
      "tags": []
     },
     "output_type": "execute_result"
    },
    {
     "data": {
      "image/png": "[encoded data removed]",
      "text/plain": [
       "<Figure size 576x396 with 1 Axes>"
      ]
     },
     "metadata": {
      "tags": []
     },
     "output_type": "display_data"
    }
   ],
   "source": [
    "data.STORE_REGION.value_counts()[:10].plot(kind='bar')"
   ]
  },
  {
   "cell_type": "code",
   "execution_count": 0,
   "metadata": {
    "colab": {},
    "colab_type": "code",
    "id": "UWSC6A7bBCmn"
   },
   "outputs": [],
   "source": [
    "data[['CUST_CODE','BASKET_ID']]"
   ]
  },
  {
   "cell_type": "code",
   "execution_count": 27,
   "metadata": {
    "colab": {
     "base_uri": "https://localhost:8080/",
     "height": 52
    },
    "colab_type": "code",
    "id": "OjbqoFeZGwUA",
    "outputId": "925c4536-2f09-49ef-cd32-d1f6b251001b"
   },
   "outputs": [
    {
     "data": {
      "text/plain": [
       "array(['CUST0000049077', 'CUST0000944007', 'CUST0000426701', ...,\n",
       "       'CUST0000506644', 'CUST0000635655', 'CUST0000688849'], dtype=object)"
      ]
     },
     "execution_count": 27,
     "metadata": {
      "tags": []
     },
     "output_type": "execute_result"
    }
   ],
   "source": [
    "data['CUST_CODE'].unique()"
   ]
  },
  {
   "cell_type": "code",
   "execution_count": 37,
   "metadata": {
    "colab": {
     "base_uri": "https://localhost:8080/",
     "height": 238
    },
    "colab_type": "code",
    "id": "y48yCq4PMSeZ",
    "outputId": "c7c05f5a-4f79-42ee-edc4-448f1d63cbbb"
   },
   "outputs": [
    {
     "data": {
      "text/html": [
       "<div>\n",
       "<style scoped>\n",
       "    .dataframe tbody tr th:only-of-type {\n",
       "        vertical-align: middle;\n",
       "    }\n",
       "\n",
       "    .dataframe tbody tr th {\n",
       "        vertical-align: top;\n",
       "    }\n",
       "\n",
       "    .dataframe thead th {\n",
       "        text-align: right;\n",
       "    }\n",
       "</style>\n",
       "<table border=\"1\" class=\"dataframe\">\n",
       "  <thead>\n",
       "    <tr style=\"text-align: right;\">\n",
       "      <th></th>\n",
       "      <th>frequency</th>\n",
       "      <th>monetary</th>\n",
       "    </tr>\n",
       "    <tr>\n",
       "      <th>CUST_CODE</th>\n",
       "      <th></th>\n",
       "      <th></th>\n",
       "    </tr>\n",
       "  </thead>\n",
       "  <tbody>\n",
       "    <tr>\n",
       "      <th>CUST0000000013</th>\n",
       "      <td>2</td>\n",
       "      <td>4.04</td>\n",
       "    </tr>\n",
       "    <tr>\n",
       "      <th>CUST0000000028</th>\n",
       "      <td>3</td>\n",
       "      <td>26.39</td>\n",
       "    </tr>\n",
       "    <tr>\n",
       "      <th>CUST0000000031</th>\n",
       "      <td>1</td>\n",
       "      <td>1.17</td>\n",
       "    </tr>\n",
       "    <tr>\n",
       "      <th>CUST0000000033</th>\n",
       "      <td>7</td>\n",
       "      <td>30.27</td>\n",
       "    </tr>\n",
       "    <tr>\n",
       "      <th>CUST0000000039</th>\n",
       "      <td>2</td>\n",
       "      <td>3.16</td>\n",
       "    </tr>\n",
       "  </tbody>\n",
       "</table>\n",
       "</div>"
      ],
      "text/plain": [
       "                frequency  monetary\n",
       "CUST_CODE                          \n",
       "CUST0000000013          2      4.04\n",
       "CUST0000000028          3     26.39\n",
       "CUST0000000031          1      1.17\n",
       "CUST0000000033          7     30.27\n",
       "CUST0000000039          2      3.16"
      ]
     },
     "execution_count": 37,
     "metadata": {
      "tags": []
     },
     "output_type": "execute_result"
    }
   ],
   "source": [
    "\n",
    "\n",
    "rfmTable = data.groupby('CUST_CODE').agg({'BASKET_ID': lambda x: len(x), \n",
    "                                           'TOTAL_PRICE': lambda x: x.sum()})\n",
    "rfmTable.rename(columns={'BASKET_ID': 'frequency', \n",
    "                         'TOTAL_PRICE': 'monetary'}, inplace=True)\n",
    "\n",
    "rfmTable.head()\n",
    "\n"
   ]
  },
  {
   "cell_type": "code",
   "execution_count": 0,
   "metadata": {
    "colab": {},
    "colab_type": "code",
    "id": "KohVQyIsJn8b"
   },
   "outputs": [],
   "source": []
  },
  {
   "cell_type": "code",
   "execution_count": 56,
   "metadata": {
    "colab": {
     "base_uri": "https://localhost:8080/",
     "height": 451
    },
    "colab_type": "code",
    "id": "mItnfvaxD6GK",
    "outputId": "e67e1a71-6c2b-4b59-c0c5-338a1b19b849"
   },
   "outputs": [
    {
     "data": {
      "text/plain": [
       "<matplotlib.axes._subplots.AxesSubplot at 0x7f41086be898>"
      ]
     },
     "execution_count": 56,
     "metadata": {
      "tags": []
     },
     "output_type": "execute_result"
    },
    {
     "data": {
      "image/png": "[encoded data removed]",
      "text/plain": [
       "<Figure size 576x396 with 1 Axes>"
      ]
     },
     "metadata": {
      "tags": []
     },
     "output_type": "display_data"
    }
   ],
   "source": [
    "rfmTable.frequency[:10].plot(kind=\"bar\")"
   ]
  },
  {
   "cell_type": "code",
   "execution_count": 0,
   "metadata": {
    "colab": {},
    "colab_type": "code",
    "id": "ZbJS9shKI-Ye"
   },
   "outputs": [],
   "source": [
    "rfmTable['f_quartile'] = pd.qcut(rfmTable['frequency'], 4, ['4','3','2','1'])\n",
    "rfmTable['m_quartile'] = pd.qcut(rfmTable['monetary'], 4, ['4','3','2','1'])"
   ]
  },
  {
   "cell_type": "code",
   "execution_count": 59,
   "metadata": {
    "colab": {
     "base_uri": "https://localhost:8080/",
     "height": 238
    },
    "colab_type": "code",
    "id": "7A70inIWY-GE",
    "outputId": "01a0f22b-d779-4dd9-e9e6-329e4a6aeea9"
   },
   "outputs": [
    {
     "data": {
      "text/html": [
       "<div>\n",
       "<style scoped>\n",
       "    .dataframe tbody tr th:only-of-type {\n",
       "        vertical-align: middle;\n",
       "    }\n",
       "\n",
       "    .dataframe tbody tr th {\n",
       "        vertical-align: top;\n",
       "    }\n",
       "\n",
       "    .dataframe thead th {\n",
       "        text-align: right;\n",
       "    }\n",
       "</style>\n",
       "<table border=\"1\" class=\"dataframe\">\n",
       "  <thead>\n",
       "    <tr style=\"text-align: right;\">\n",
       "      <th></th>\n",
       "      <th>frequency</th>\n",
       "      <th>monetary</th>\n",
       "      <th>f_quartile</th>\n",
       "      <th>m_quartile</th>\n",
       "    </tr>\n",
       "    <tr>\n",
       "      <th>CUST_CODE</th>\n",
       "      <th></th>\n",
       "      <th></th>\n",
       "      <th></th>\n",
       "      <th></th>\n",
       "    </tr>\n",
       "  </thead>\n",
       "  <tbody>\n",
       "    <tr>\n",
       "      <th>CUST0000000013</th>\n",
       "      <td>2</td>\n",
       "      <td>4.04</td>\n",
       "      <td>4</td>\n",
       "      <td>4</td>\n",
       "    </tr>\n",
       "    <tr>\n",
       "      <th>CUST0000000028</th>\n",
       "      <td>3</td>\n",
       "      <td>26.39</td>\n",
       "      <td>4</td>\n",
       "      <td>2</td>\n",
       "    </tr>\n",
       "    <tr>\n",
       "      <th>CUST0000000031</th>\n",
       "      <td>1</td>\n",
       "      <td>1.17</td>\n",
       "      <td>4</td>\n",
       "      <td>4</td>\n",
       "    </tr>\n",
       "    <tr>\n",
       "      <th>CUST0000000033</th>\n",
       "      <td>7</td>\n",
       "      <td>30.27</td>\n",
       "      <td>3</td>\n",
       "      <td>2</td>\n",
       "    </tr>\n",
       "    <tr>\n",
       "      <th>CUST0000000039</th>\n",
       "      <td>2</td>\n",
       "      <td>3.16</td>\n",
       "      <td>4</td>\n",
       "      <td>4</td>\n",
       "    </tr>\n",
       "  </tbody>\n",
       "</table>\n",
       "</div>"
      ],
      "text/plain": [
       "                frequency  monetary f_quartile m_quartile\n",
       "CUST_CODE                                                \n",
       "CUST0000000013          2      4.04          4          4\n",
       "CUST0000000028          3     26.39          4          2\n",
       "CUST0000000031          1      1.17          4          4\n",
       "CUST0000000033          7     30.27          3          2\n",
       "CUST0000000039          2      3.16          4          4"
      ]
     },
     "execution_count": 59,
     "metadata": {
      "tags": []
     },
     "output_type": "execute_result"
    }
   ],
   "source": [
    "rfmTable.head()"
   ]
  },
  {
   "cell_type": "code",
   "execution_count": 60,
   "metadata": {
    "colab": {
     "base_uri": "https://localhost:8080/",
     "height": 238
    },
    "colab_type": "code",
    "id": "0iUWDnJcZGYn",
    "outputId": "9165de9b-aacf-42a5-c0cb-3b3868c360b3"
   },
   "outputs": [
    {
     "data": {
      "text/html": [
       "<div>\n",
       "<style scoped>\n",
       "    .dataframe tbody tr th:only-of-type {\n",
       "        vertical-align: middle;\n",
       "    }\n",
       "\n",
       "    .dataframe tbody tr th {\n",
       "        vertical-align: top;\n",
       "    }\n",
       "\n",
       "    .dataframe thead th {\n",
       "        text-align: right;\n",
       "    }\n",
       "</style>\n",
       "<table border=\"1\" class=\"dataframe\">\n",
       "  <thead>\n",
       "    <tr style=\"text-align: right;\">\n",
       "      <th></th>\n",
       "      <th>frequency</th>\n",
       "      <th>monetary</th>\n",
       "      <th>f_quartile</th>\n",
       "      <th>m_quartile</th>\n",
       "      <th>RFM_Score</th>\n",
       "    </tr>\n",
       "    <tr>\n",
       "      <th>CUST_CODE</th>\n",
       "      <th></th>\n",
       "      <th></th>\n",
       "      <th></th>\n",
       "      <th></th>\n",
       "      <th></th>\n",
       "    </tr>\n",
       "  </thead>\n",
       "  <tbody>\n",
       "    <tr>\n",
       "      <th>CUST0000000013</th>\n",
       "      <td>2</td>\n",
       "      <td>4.04</td>\n",
       "      <td>4</td>\n",
       "      <td>4</td>\n",
       "      <td>44</td>\n",
       "    </tr>\n",
       "    <tr>\n",
       "      <th>CUST0000000028</th>\n",
       "      <td>3</td>\n",
       "      <td>26.39</td>\n",
       "      <td>4</td>\n",
       "      <td>2</td>\n",
       "      <td>42</td>\n",
       "    </tr>\n",
       "    <tr>\n",
       "      <th>CUST0000000031</th>\n",
       "      <td>1</td>\n",
       "      <td>1.17</td>\n",
       "      <td>4</td>\n",
       "      <td>4</td>\n",
       "      <td>44</td>\n",
       "    </tr>\n",
       "    <tr>\n",
       "      <th>CUST0000000033</th>\n",
       "      <td>7</td>\n",
       "      <td>30.27</td>\n",
       "      <td>3</td>\n",
       "      <td>2</td>\n",
       "      <td>32</td>\n",
       "    </tr>\n",
       "    <tr>\n",
       "      <th>CUST0000000039</th>\n",
       "      <td>2</td>\n",
       "      <td>3.16</td>\n",
       "      <td>4</td>\n",
       "      <td>4</td>\n",
       "      <td>44</td>\n",
       "    </tr>\n",
       "  </tbody>\n",
       "</table>\n",
       "</div>"
      ],
      "text/plain": [
       "                frequency  monetary f_quartile m_quartile RFM_Score\n",
       "CUST_CODE                                                          \n",
       "CUST0000000013          2      4.04          4          4        44\n",
       "CUST0000000028          3     26.39          4          2        42\n",
       "CUST0000000031          1      1.17          4          4        44\n",
       "CUST0000000033          7     30.27          3          2        32\n",
       "CUST0000000039          2      3.16          4          4        44"
      ]
     },
     "execution_count": 60,
     "metadata": {
      "tags": []
     },
     "output_type": "execute_result"
    }
   ],
   "source": [
    "rfmTable['RFM_Score'] = rfmTable.f_quartile.astype(str) + rfmTable.m_quartile.astype(str)\n",
    "rfmTable.head()"
   ]
  },
  {
   "cell_type": "code",
   "execution_count": 0,
   "metadata": {
    "colab": {},
    "colab_type": "code",
    "id": "x2wykgxLZhhn"
   },
   "outputs": [],
   "source": [
    "from sklearn.cluster import KMeans\n",
    "\n",
    "wcss = []\n",
    "for i in range(1,11):\n",
    "    kmeans = KMeans(n_clusters=i, init='k-means++', random_state=0)\n",
    "    kmeans.fit(rfmTable)\n",
    "    wcss.append(kmeans.inertia_)"
   ]
  },
  {
   "cell_type": "code",
   "execution_count": 63,
   "metadata": {
    "colab": {
     "base_uri": "https://localhost:8080/",
     "height": 376
    },
    "colab_type": "code",
    "id": "lHZgyFyaaA9I",
    "outputId": "43da8f06-912e-47f8-fec6-1ee28abf005f"
   },
   "outputs": [
    {
     "data": {
      "image/png": "[encoded data removed]",
      "text/plain": [
       "<Figure size 576x396 with 1 Axes>"
      ]
     },
     "metadata": {
      "tags": []
     },
     "output_type": "display_data"
    }
   ],
   "source": [
    "plt.plot(range(1,11), wcss)\n",
    "plt.title('Elbow graph')\n",
    "plt.xlabel('Cluster number')\n",
    "plt.ylabel('WCSS')\n",
    "plt.show()"
   ]
  },
  {
   "cell_type": "code",
   "execution_count": 0,
   "metadata": {
    "colab": {},
    "colab_type": "code",
    "id": "MiadU65eaG7-"
   },
   "outputs": [],
   "source": [
    "kmeans = KMeans(n_clusters=4, init='k-means++', random_state=0)\n",
    "clusters = kmeans.fit_predict(rfmTable)"
   ]
  },
  {
   "cell_type": "code",
   "execution_count": 69,
   "metadata": {
    "colab": {
     "base_uri": "https://localhost:8080/",
     "height": 238
    },
    "colab_type": "code",
    "id": "l_tWlzsOaMNc",
    "outputId": "ec5845b7-9c4d-4f42-fa76-288a011b7ec3"
   },
   "outputs": [
    {
     "data": {
      "text/html": [
       "<div>\n",
       "<style scoped>\n",
       "    .dataframe tbody tr th:only-of-type {\n",
       "        vertical-align: middle;\n",
       "    }\n",
       "\n",
       "    .dataframe tbody tr th {\n",
       "        vertical-align: top;\n",
       "    }\n",
       "\n",
       "    .dataframe thead th {\n",
       "        text-align: right;\n",
       "    }\n",
       "</style>\n",
       "<table border=\"1\" class=\"dataframe\">\n",
       "  <thead>\n",
       "    <tr style=\"text-align: right;\">\n",
       "      <th></th>\n",
       "      <th>frequency</th>\n",
       "      <th>monetary</th>\n",
       "      <th>f_quartile</th>\n",
       "      <th>m_quartile</th>\n",
       "      <th>RFM_Score</th>\n",
       "      <th>clusters</th>\n",
       "    </tr>\n",
       "    <tr>\n",
       "      <th>CUST_CODE</th>\n",
       "      <th></th>\n",
       "      <th></th>\n",
       "      <th></th>\n",
       "      <th></th>\n",
       "      <th></th>\n",
       "      <th></th>\n",
       "    </tr>\n",
       "  </thead>\n",
       "  <tbody>\n",
       "    <tr>\n",
       "      <th>CUST0000000013</th>\n",
       "      <td>2</td>\n",
       "      <td>4.04</td>\n",
       "      <td>4</td>\n",
       "      <td>4</td>\n",
       "      <td>44</td>\n",
       "      <td>0</td>\n",
       "    </tr>\n",
       "    <tr>\n",
       "      <th>CUST0000000028</th>\n",
       "      <td>3</td>\n",
       "      <td>26.39</td>\n",
       "      <td>4</td>\n",
       "      <td>2</td>\n",
       "      <td>42</td>\n",
       "      <td>0</td>\n",
       "    </tr>\n",
       "    <tr>\n",
       "      <th>CUST0000000031</th>\n",
       "      <td>1</td>\n",
       "      <td>1.17</td>\n",
       "      <td>4</td>\n",
       "      <td>4</td>\n",
       "      <td>44</td>\n",
       "      <td>0</td>\n",
       "    </tr>\n",
       "    <tr>\n",
       "      <th>CUST0000000033</th>\n",
       "      <td>7</td>\n",
       "      <td>30.27</td>\n",
       "      <td>3</td>\n",
       "      <td>2</td>\n",
       "      <td>32</td>\n",
       "      <td>0</td>\n",
       "    </tr>\n",
       "    <tr>\n",
       "      <th>CUST0000000039</th>\n",
       "      <td>2</td>\n",
       "      <td>3.16</td>\n",
       "      <td>4</td>\n",
       "      <td>4</td>\n",
       "      <td>44</td>\n",
       "      <td>0</td>\n",
       "    </tr>\n",
       "  </tbody>\n",
       "</table>\n",
       "</div>"
      ],
      "text/plain": [
       "                frequency  monetary f_quartile m_quartile RFM_Score  clusters\n",
       "CUST_CODE                                                                    \n",
       "CUST0000000013          2      4.04          4          4        44         0\n",
       "CUST0000000028          3     26.39          4          2        42         0\n",
       "CUST0000000031          1      1.17          4          4        44         0\n",
       "CUST0000000033          7     30.27          3          2        32         0\n",
       "CUST0000000039          2      3.16          4          4        44         0"
      ]
     },
     "execution_count": 69,
     "metadata": {
      "tags": []
     },
     "output_type": "execute_result"
    }
   ],
   "source": [
    "\n",
    "\n",
    "rfmTable['clusters'] = clusters\n",
    "rfmTable.head()\n",
    "\n"
   ]
  },
  {
   "cell_type": "code",
   "execution_count": 71,
   "metadata": {
    "colab": {
     "base_uri": "https://localhost:8080/",
     "height": 393
    },
    "colab_type": "code",
    "id": "kuyZhHINaQN3",
    "outputId": "a727cb43-ed9b-4d5c-933f-d9cf71bf24ae"
   },
   "outputs": [
    {
     "data": {
      "text/plain": [
       "<matplotlib.legend.Legend at 0x7f4107f6a9e8>"
      ]
     },
     "execution_count": 71,
     "metadata": {
      "tags": []
     },
     "output_type": "execute_result"
    },
    {
     "data": {
      "image/png": "[encoded data removed]",
      "text/plain": [
       "<Figure size 576x396 with 1 Axes>"
      ]
     },
     "metadata": {
      "tags": []
     },
     "output_type": "display_data"
    }
   ],
   "source": [
    "c1 = rfmTable[rfmTable.clusters == 0]\n",
    "c2 = rfmTable[rfmTable.clusters == 1]\n",
    "c3 = rfmTable[rfmTable.clusters == 2]\n",
    "c4 = rfmTable[rfmTable.clusters == 3]\n",
    "\n",
    "plt.scatter(c1.frequency, c1.monetary, c = 'blue', label = 'Cluster 1')\n",
    "plt.scatter(c2.frequency, c2.monetary, c = 'yellow', label = 'Cluster 2')\n",
    "plt.scatter(c3.frequency, c3.monetary, c = 'green', label = 'Cluster 3')\n",
    "plt.scatter(c4.frequency, c4.monetary, c = 'red', label = 'Cluster 4')\n",
    "\n",
    "plt.title('Clusters of clients')\n",
    "plt.xlabel('Frequency')\n",
    "plt.ylabel('Monetary')\n",
    "plt.legend()"
   ]
  },
  {
   "cell_type": "code",
   "execution_count": 0,
   "metadata": {
    "colab": {},
    "colab_type": "code",
    "id": "TrGBbKaRang-"
   },
   "outputs": [],
   "source": []
  }
 ],
 "metadata": {
  "colab": {
   "collapsed_sections": [],
   "name": "Untitled5.ipynb",
   "provenance": [],
   "version": "0.3.2"
  },
  "kernelspec": {
   "display_name": "Python 3",
   "language": "python",
   "name": "python3"
  },
  "language_info": {
   "codemirror_mode": {
    "name": "ipython",
    "version": 3
   },
   "file_extension": ".py",
   "mimetype": "text/x-python",
   "name": "python",
   "nbconvert_exporter": "python",
   "pygments_lexer": "ipython3",
   "version": "3.6.6"
  }
 },
 "nbformat": 4,
 "nbformat_minor": 1
}
